{
 "cells": [
  {
   "cell_type": "code",
   "execution_count": 1,
   "metadata": {
    "id": "uM2RNn7hPq09"
   },
   "outputs": [],
   "source": [
    "import os\n",
    "\n",
    "os.environ[\"KERAS_BACKEND\"] = \"tensorflow\"\n",
    "\n",
    "import pathlib\n",
    "import random\n",
    "import string\n",
    "import re\n",
    "import numpy as np\n",
    "import tensorflow as tf\n",
    "import tensorflow.data as tf_data\n",
    "import tensorflow.strings as tf_strings\n",
    "\n",
    "import keras\n",
    "from keras import layers\n",
    "#from keras import ops\n",
    "from keras.layers import TextVectorization\n",
    "from keras import backend as K\n",
    "\n",
    "from tqdm.auto import tqdm"
   ]
  },
  {
   "cell_type": "code",
   "execution_count": 2,
   "metadata": {
    "id": "H3LPHtW9Pq0-"
   },
   "outputs": [],
   "source": [
    "barnette_graphs=np.load('barnette_graph_data_alpha.npy',allow_pickle=True)"
   ]
  },
  {
   "cell_type": "code",
   "execution_count": 3,
   "metadata": {
    "colab": {
     "base_uri": "https://localhost:8080/",
     "height": 35
    },
    "id": "wqwLQHvHPq0-",
    "outputId": "44f8f7c0-8d88-4cac-f171-dc2a54894de9",
    "scrolled": true
   },
   "outputs": [
    {
     "data": {
      "text/plain": [
       "'13.14.15.16 5.6.2.1 2.6.8.4.10.9 3.4.8.7 5.1.12.11.3.7 5.6.8.7 10.4.3.11.14.13 12.1.2.9.16.15 14.11.12.15 16.9.10.13'"
      ]
     },
     "execution_count": 3,
     "metadata": {},
     "output_type": "execute_result"
    }
   ],
   "source": [
    "barnette_graphs[2]"
   ]
  },
  {
   "cell_type": "code",
   "execution_count": 4,
   "metadata": {},
   "outputs": [],
   "source": [
    "barnette_graphs_dicts=[]\n",
    "for i in range(len(barnette_graphs)):\n",
    "    face_info_dot_seperated=barnette_graphs[i].split(' ')\n",
    "    face_vertex_dict={}\n",
    "    for k in range(len(face_info_dot_seperated)):\n",
    "        num_list=[eval(i) for i in face_info_dot_seperated[k].split('.')]\n",
    "        face_vertex_dict[str(k+1)]=num_list\n",
    "    barnette_graphs_dicts.append(face_vertex_dict)"
   ]
  },
  {
   "cell_type": "code",
   "execution_count": 5,
   "metadata": {
    "id": "PozssstCPq0_"
   },
   "outputs": [],
   "source": [
    "hamiltonian_cycles=np.load('hamiltonian_data_alpha.npy',allow_pickle=True)"
   ]
  },
  {
   "cell_type": "code",
   "execution_count": 6,
   "metadata": {
    "colab": {
     "base_uri": "https://localhost:8080/"
    },
    "id": "owTo53aMPq0_",
    "outputId": "ad9dc673-f07d-4fc1-b732-61c1f831a8cd"
   },
   "outputs": [
    {
     "data": {
      "text/plain": [
       "array([1., 0., 1., 0., 1., 0., 1., 0., 0., 0.])"
      ]
     },
     "execution_count": 6,
     "metadata": {},
     "output_type": "execute_result"
    }
   ],
   "source": [
    "hamiltonian_cycles[2]"
   ]
  },
  {
   "cell_type": "code",
   "execution_count": 7,
   "metadata": {
    "colab": {
     "base_uri": "https://localhost:8080/"
    },
    "id": "nLzWW8j3Pq1A",
    "outputId": "67b02576-724b-4d2d-8b81-2c9689f79f7d"
   },
   "outputs": [
    {
     "data": {
      "text/plain": [
       "50000"
      ]
     },
     "execution_count": 7,
     "metadata": {},
     "output_type": "execute_result"
    }
   ],
   "source": [
    "len(barnette_graphs)"
   ]
  },
  {
   "cell_type": "code",
   "execution_count": 8,
   "metadata": {
    "colab": {
     "base_uri": "https://localhost:8080/"
    },
    "id": "oCOT-pEdPq1A",
    "outputId": "55a11a95-f9ad-4d2f-8779-d8affeddd025"
   },
   "outputs": [
    {
     "data": {
      "text/plain": [
       "50000"
      ]
     },
     "execution_count": 8,
     "metadata": {},
     "output_type": "execute_result"
    }
   ],
   "source": [
    "len(hamiltonian_cycles)"
   ]
  },
  {
   "cell_type": "code",
   "execution_count": 9,
   "metadata": {
    "id": "aG4_IJEePq1A"
   },
   "outputs": [],
   "source": [
    "max_barnette_len=0\n",
    "for j in range(len(barnette_graphs)):\n",
    "    if len(barnette_graphs[j])>max_barnette_len:\n",
    "        max_barnette_len=len(barnette_graphs[j])"
   ]
  },
  {
   "cell_type": "code",
   "execution_count": 10,
   "metadata": {
    "colab": {
     "base_uri": "https://localhost:8080/"
    },
    "id": "WzgIIXiPPq1A",
    "outputId": "97d20958-6b5e-4875-fe4d-61fbab5c9e1c"
   },
   "outputs": [
    {
     "data": {
      "text/plain": [
       "368"
      ]
     },
     "execution_count": 10,
     "metadata": {},
     "output_type": "execute_result"
    }
   ],
   "source": [
    "max_barnette_len"
   ]
  },
  {
   "cell_type": "code",
   "execution_count": 11,
   "metadata": {
    "id": "R9IjyZR_Pq1A"
   },
   "outputs": [],
   "source": [
    "barnette_vocab=[\n",
    "'0',\n",
    "'1',\n",
    "'2',\n",
    "'3',\n",
    "'4',\n",
    "'5',\n",
    "'6',\n",
    "'7',\n",
    "'8',\n",
    "'9',\n",
    "' ',\n",
    "'.',\n",
    "'p',\n",
    "''\n",
    "]"
   ]
  },
  {
   "cell_type": "code",
   "execution_count": 12,
   "metadata": {
    "id": "yv-SdLfAPq1B"
   },
   "outputs": [],
   "source": [
    "barnette_vocab_dict={}\n",
    "for i in range(len(barnette_vocab)):\n",
    "    barnette_vocab_dict[barnette_vocab[i]]=i"
   ]
  },
  {
   "cell_type": "code",
   "execution_count": 13,
   "metadata": {
    "id": "RGB5OgmvPq1B"
   },
   "outputs": [],
   "source": [
    "barnette_vocab_rev_dict={}\n",
    "for i in range(len(barnette_vocab)):\n",
    "    barnette_vocab_rev_dict[i]=barnette_vocab[i]"
   ]
  },
  {
   "cell_type": "code",
   "execution_count": 14,
   "metadata": {
    "colab": {
     "base_uri": "https://localhost:8080/"
    },
    "id": "uNuZmxPEYOvh",
    "outputId": "fa3ae02d-b735-4027-d226-f9fd0fb793c3"
   },
   "outputs": [
    {
     "data": {
      "text/plain": [
       "{'0': 0,\n",
       " '1': 1,\n",
       " '2': 2,\n",
       " '3': 3,\n",
       " '4': 4,\n",
       " '5': 5,\n",
       " '6': 6,\n",
       " '7': 7,\n",
       " '8': 8,\n",
       " '9': 9,\n",
       " ' ': 10,\n",
       " '.': 11,\n",
       " 'p': 12,\n",
       " '': 13}"
      ]
     },
     "execution_count": 14,
     "metadata": {},
     "output_type": "execute_result"
    }
   ],
   "source": [
    "barnette_vocab_dict"
   ]
  },
  {
   "cell_type": "code",
   "execution_count": 15,
   "metadata": {},
   "outputs": [
    {
     "data": {
      "text/plain": [
       "{0: '0',\n",
       " 1: '1',\n",
       " 2: '2',\n",
       " 3: '3',\n",
       " 4: '4',\n",
       " 5: '5',\n",
       " 6: '6',\n",
       " 7: '7',\n",
       " 8: '8',\n",
       " 9: '9',\n",
       " 10: ' ',\n",
       " 11: '.',\n",
       " 12: 'p',\n",
       " 13: ''}"
      ]
     },
     "execution_count": 15,
     "metadata": {},
     "output_type": "execute_result"
    }
   ],
   "source": [
    "barnette_vocab_rev_dict"
   ]
  },
  {
   "cell_type": "code",
   "execution_count": 16,
   "metadata": {
    "id": "lTAjZUmHPq1C"
   },
   "outputs": [],
   "source": [
    "def text_to_numeric(data,vocab_dict,max_len):\n",
    "    data_numeric=[]\n",
    "    for i in range(len(data)):\n",
    "        numeric=[]\n",
    "\n",
    "        for char in data[i]:\n",
    "            numeric.append(vocab_dict[char])\n",
    "\n",
    "        count=len(numeric)\n",
    "\n",
    "        while count<=max_len:\n",
    "            numeric.append(vocab_dict['p'])\n",
    "            count=count+1\n",
    "        data_numeric.append(np.array(numeric))\n",
    "\n",
    "    return np.array(data_numeric)"
   ]
  },
  {
   "cell_type": "code",
   "execution_count": 17,
   "metadata": {
    "id": "D3UgvamaPq1D"
   },
   "outputs": [],
   "source": [
    "barnette_graphs_numeric=text_to_numeric(barnette_graphs,barnette_vocab_dict, 400)"
   ]
  },
  {
   "cell_type": "code",
   "execution_count": 18,
   "metadata": {
    "colab": {
     "base_uri": "https://localhost:8080/"
    },
    "id": "bxH8RhJnPq1D",
    "outputId": "f7264bdb-e994-4626-dbd1-c6d3f375036f"
   },
   "outputs": [
    {
     "data": {
      "text/plain": [
       "(50000, 401)"
      ]
     },
     "execution_count": 18,
     "metadata": {},
     "output_type": "execute_result"
    }
   ],
   "source": [
    "barnette_graphs_numeric.shape"
   ]
  },
  {
   "cell_type": "code",
   "execution_count": 19,
   "metadata": {
    "colab": {
     "base_uri": "https://localhost:8080/"
    },
    "id": "go88HrdEyuH4",
    "outputId": "2373691a-0f74-4adf-be7a-cce2cc3453a8"
   },
   "outputs": [
    {
     "data": {
      "text/plain": [
       "array([ 1,  3, 11,  1,  4, 11,  1,  5, 11,  1,  6, 10,  5, 11,  6, 11,  2,\n",
       "       11,  1, 10,  2, 11,  6, 11,  8, 11,  4, 11,  1,  0, 11,  9, 10,  3,\n",
       "       11,  4, 11,  8, 11,  7, 10,  5, 11,  1, 11,  1,  2, 11,  1,  1, 11,\n",
       "        3, 11,  7, 10,  5, 11,  6, 11,  8, 11,  7, 10,  1,  0, 11,  4, 11,\n",
       "        3, 11,  1,  1, 11,  1,  4, 11,  1,  3, 10,  1,  2, 11,  1, 11,  2,\n",
       "       11,  9, 11,  1,  6, 11,  1,  5, 10,  1,  4, 11,  1,  1, 11,  1,  2,\n",
       "       11,  1,  5, 10,  1,  6, 11,  9, 11,  1,  0, 11,  1,  3, 12, 12, 12,\n",
       "       12, 12, 12, 12, 12, 12, 12, 12, 12, 12, 12, 12, 12, 12, 12, 12, 12,\n",
       "       12, 12, 12, 12, 12, 12, 12, 12, 12, 12, 12, 12, 12, 12, 12, 12, 12,\n",
       "       12, 12, 12, 12, 12, 12, 12, 12, 12, 12, 12, 12, 12, 12, 12, 12, 12,\n",
       "       12, 12, 12, 12, 12, 12, 12, 12, 12, 12, 12, 12, 12, 12, 12, 12, 12,\n",
       "       12, 12, 12, 12, 12, 12, 12, 12, 12, 12, 12, 12, 12, 12, 12, 12, 12,\n",
       "       12, 12, 12, 12, 12, 12, 12, 12, 12, 12, 12, 12, 12, 12, 12, 12, 12,\n",
       "       12, 12, 12, 12, 12, 12, 12, 12, 12, 12, 12, 12, 12, 12, 12, 12, 12,\n",
       "       12, 12, 12, 12, 12, 12, 12, 12, 12, 12, 12, 12, 12, 12, 12, 12, 12,\n",
       "       12, 12, 12, 12, 12, 12, 12, 12, 12, 12, 12, 12, 12, 12, 12, 12, 12,\n",
       "       12, 12, 12, 12, 12, 12, 12, 12, 12, 12, 12, 12, 12, 12, 12, 12, 12,\n",
       "       12, 12, 12, 12, 12, 12, 12, 12, 12, 12, 12, 12, 12, 12, 12, 12, 12,\n",
       "       12, 12, 12, 12, 12, 12, 12, 12, 12, 12, 12, 12, 12, 12, 12, 12, 12,\n",
       "       12, 12, 12, 12, 12, 12, 12, 12, 12, 12, 12, 12, 12, 12, 12, 12, 12,\n",
       "       12, 12, 12, 12, 12, 12, 12, 12, 12, 12, 12, 12, 12, 12, 12, 12, 12,\n",
       "       12, 12, 12, 12, 12, 12, 12, 12, 12, 12, 12, 12, 12, 12, 12, 12, 12,\n",
       "       12, 12, 12, 12, 12, 12, 12, 12, 12, 12, 12, 12, 12, 12, 12, 12, 12,\n",
       "       12, 12, 12, 12, 12, 12, 12, 12, 12, 12])"
      ]
     },
     "execution_count": 19,
     "metadata": {},
     "output_type": "execute_result"
    }
   ],
   "source": [
    "barnette_graphs_numeric[2]"
   ]
  },
  {
   "cell_type": "code",
   "execution_count": 20,
   "metadata": {},
   "outputs": [],
   "source": [
    "barnette_graphs_numeric=tf.cast(barnette_graphs_numeric,tf.int64)"
   ]
  },
  {
   "cell_type": "code",
   "execution_count": 21,
   "metadata": {
    "id": "T21p_C1RyuH4"
   },
   "outputs": [],
   "source": [
    "max_hamiltonian_len=0\n",
    "for i in range(len(hamiltonian_cycles)):\n",
    "    if len(hamiltonian_cycles[i])>max_hamiltonian_len:\n",
    "        max_hamiltonian_len=len(hamiltonian_cycles[i])"
   ]
  },
  {
   "cell_type": "code",
   "execution_count": 22,
   "metadata": {
    "id": "uGUiBd9iyuH4"
   },
   "outputs": [],
   "source": [
    "#hamiltonian_cycles_padded=np.zeros((len(hamiltonian_cycles),max_hamiltonian_len))-1\n",
    "hamiltonian_cycles_padded=np.zeros((len(hamiltonian_cycles),max_hamiltonian_len))\n",
    "for i in range(len(hamiltonian_cycles)):\n",
    "    for j in range(len(hamiltonian_cycles[i])):\n",
    "        hamiltonian_cycles_padded[i][j]=hamiltonian_cycles[i][j]"
   ]
  },
  {
   "cell_type": "code",
   "execution_count": 23,
   "metadata": {
    "colab": {
     "base_uri": "https://localhost:8080/"
    },
    "id": "vuXLS1qwyuH4",
    "outputId": "c6fd9b82-2e42-4e1f-c037-1135e008526c"
   },
   "outputs": [
    {
     "data": {
      "text/plain": [
       "array([1., 0., 1., 0., 1., 0., 1., 0., 0., 0., 0., 0., 0., 0., 0., 0., 0.,\n",
       "       0., 0., 0., 0., 0., 0., 0.])"
      ]
     },
     "execution_count": 23,
     "metadata": {},
     "output_type": "execute_result"
    }
   ],
   "source": [
    "hamiltonian_cycles_padded[2]"
   ]
  },
  {
   "cell_type": "code",
   "execution_count": 24,
   "metadata": {},
   "outputs": [],
   "source": [
    "max_face_number=0\n",
    "for i in range(len(barnette_graphs_dicts)):\n",
    "    if len(barnette_graphs_dicts[i])>max_face_number:\n",
    "        max_face_number=len(barnette_graphs_dicts[i])"
   ]
  },
  {
   "cell_type": "code",
   "execution_count": 25,
   "metadata": {},
   "outputs": [
    {
     "data": {
      "text/plain": [
       "24"
      ]
     },
     "execution_count": 25,
     "metadata": {},
     "output_type": "execute_result"
    }
   ],
   "source": [
    "max_face_number"
   ]
  },
  {
   "cell_type": "code",
   "execution_count": 26,
   "metadata": {},
   "outputs": [],
   "source": [
    "max_face_size=0\n",
    "for i in range(len(barnette_graphs_dicts)):\n",
    "    for key in barnette_graphs_dicts[i].keys():\n",
    "        if len(barnette_graphs_dicts[i][key])>max_face_size:\n",
    "            max_face_size=len(barnette_graphs_dicts[i][key])"
   ]
  },
  {
   "cell_type": "code",
   "execution_count": 27,
   "metadata": {},
   "outputs": [
    {
     "data": {
      "text/plain": [
       "22"
      ]
     },
     "execution_count": 27,
     "metadata": {},
     "output_type": "execute_result"
    }
   ],
   "source": [
    "max_face_size"
   ]
  },
  {
   "cell_type": "code",
   "execution_count": 28,
   "metadata": {
    "scrolled": true
   },
   "outputs": [],
   "source": [
    "barnette_graphs_padded=np.zeros((len(barnette_graphs),max_face_number,max_face_size))\n",
    "for i in range(len(barnette_graphs_dicts)):\n",
    "    for key in barnette_graphs_dicts[i].keys():\n",
    "        face_index=int(key)-1\n",
    "        face=barnette_graphs_dicts[i][key]\n",
    "        for j in range(len(face)):\n",
    "            barnette_graphs_padded[i][face_index][j]=barnette_graphs_dicts[i][key][j]"
   ]
  },
  {
   "cell_type": "code",
   "execution_count": 29,
   "metadata": {},
   "outputs": [],
   "source": [
    "barnette_graphs_padded=tf.cast(barnette_graphs_padded,tf.int64)"
   ]
  },
  {
   "cell_type": "code",
   "execution_count": 30,
   "metadata": {},
   "outputs": [
    {
     "data": {
      "text/plain": [
       "TensorShape([50000, 24, 22])"
      ]
     },
     "execution_count": 30,
     "metadata": {},
     "output_type": "execute_result"
    }
   ],
   "source": [
    "barnette_graphs_padded.shape"
   ]
  },
  {
   "cell_type": "code",
   "execution_count": 31,
   "metadata": {},
   "outputs": [],
   "source": [
    "pseudolabel=[]\n",
    "for i in range(len(barnette_graphs_padded)):\n",
    "    pseudolabel.append(np.array([1,0]))\n",
    "pseudolabel=tf.cast(pseudolabel,tf.float32)"
   ]
  },
  {
   "cell_type": "code",
   "execution_count": 32,
   "metadata": {},
   "outputs": [
    {
     "data": {
      "text/plain": [
       "TensorShape([50000, 2])"
      ]
     },
     "execution_count": 32,
     "metadata": {},
     "output_type": "execute_result"
    }
   ],
   "source": [
    "pseudolabel.shape"
   ]
  },
  {
   "cell_type": "code",
   "execution_count": 33,
   "metadata": {
    "colab": {
     "base_uri": "https://localhost:8080/"
    },
    "id": "K-jhZ2rTPq1D",
    "outputId": "d9cf1fef-e31b-4edb-8cf3-d50cc87d9829"
   },
   "outputs": [
    {
     "name": "stdout",
     "output_type": "stream",
     "text": [
      "50000 total samples\n",
      "35000 training samples\n",
      "7500 validation pairs\n",
      "7500 test pairs\n"
     ]
    }
   ],
   "source": [
    "num_val_samples = int(0.15 * len(hamiltonian_cycles))\n",
    "num_train_samples = len(hamiltonian_cycles) - 2 * num_val_samples\n",
    "\n",
    "barnette_graphs_trn = barnette_graphs_numeric[:num_train_samples]\n",
    "hamiltonian_cycles_trn = hamiltonian_cycles_padded[:num_train_samples]\n",
    "barnette_graphs_padded_trn = barnette_graphs_padded[:num_train_samples]\n",
    "pseudolabel_trn=pseudolabel[:num_train_samples]\n",
    "\n",
    "barnette_graphs_val = barnette_graphs_numeric[num_train_samples : num_train_samples + num_val_samples]\n",
    "hamiltonian_cycles_val = hamiltonian_cycles_padded[num_train_samples : num_train_samples + num_val_samples]\n",
    "barnette_graphs_padded_val = barnette_graphs_padded[num_train_samples : num_train_samples + num_val_samples]\n",
    "pseudolabel_val=pseudolabel[num_train_samples : num_train_samples + num_val_samples]\n",
    "\n",
    "\n",
    "barnette_graphs_tst = barnette_graphs_numeric[num_train_samples + num_val_samples :]\n",
    "hamiltonian_cycles_tst = hamiltonian_cycles_padded[num_train_samples + num_val_samples :]\n",
    "barnette_graphs_padded_tst = barnette_graphs_padded[num_train_samples + num_val_samples :]\n",
    "pseudolabel_tst=pseudolabel[num_train_samples + num_val_samples :]\n",
    "\n",
    "\n",
    "\n",
    "print(f\"{len(hamiltonian_cycles)} total samples\")\n",
    "print(f\"{len(hamiltonian_cycles_trn)} training samples\")\n",
    "print(f\"{len(hamiltonian_cycles_val)} validation pairs\")\n",
    "print(f\"{len(hamiltonian_cycles_tst)} test pairs\")"
   ]
  },
  {
   "cell_type": "code",
   "execution_count": 34,
   "metadata": {
    "id": "RUcc7TVWPq1D"
   },
   "outputs": [],
   "source": [
    "#import keras.ops as ops\n",
    "\n",
    "class TransformerEncoder(layers.Layer):\n",
    "    def __init__(self, embed_dim, dense_dim, num_heads, **kwargs):\n",
    "        super().__init__(**kwargs)\n",
    "        self.embed_dim = embed_dim\n",
    "        self.dense_dim = dense_dim\n",
    "        self.num_heads = num_heads\n",
    "        self.attention = layers.MultiHeadAttention(\n",
    "            num_heads=num_heads, key_dim=embed_dim\n",
    "        )\n",
    "        self.dense_proj = keras.Sequential(\n",
    "            [\n",
    "                layers.Dense(dense_dim, activation=\"relu\"),\n",
    "                layers.Dense(embed_dim),\n",
    "            ]\n",
    "        )\n",
    "        self.layernorm_1 = layers.LayerNormalization()\n",
    "        self.layernorm_2 = layers.LayerNormalization()\n",
    "        self.supports_masking = True\n",
    "\n",
    "    def call(self, inputs, mask=None):\n",
    "        if mask is not None:\n",
    "            padding_mask = tf.cast(mask[:,tf.newaxis, tf.newaxis, :], dtype='int32')\n",
    "        else:\n",
    "            padding_mask = None\n",
    "\n",
    "        attention_output = self.attention(\n",
    "            query=inputs, value=inputs, key=inputs, attention_mask=padding_mask\n",
    "        )\n",
    "        proj_input = self.layernorm_1(inputs + attention_output)\n",
    "        proj_output = self.dense_proj(proj_input)\n",
    "        return self.layernorm_2(proj_input + proj_output)\n",
    "\n",
    "\n",
    "    def get_config(self):\n",
    "        config = super().get_config()\n",
    "        config.update(\n",
    "            {\n",
    "                \"embed_dim\": self.embed_dim,\n",
    "                \"dense_dim\": self.dense_dim,\n",
    "                \"num_heads\": self.num_heads,\n",
    "            }\n",
    "        )\n",
    "        return config\n",
    "\n",
    "\n",
    "class PositionalEmbedding(layers.Layer):\n",
    "    def __init__(self, sequence_length, vocab_size, embed_dim, **kwargs):\n",
    "        super().__init__(**kwargs)\n",
    "        self.token_embeddings = layers.Embedding(\n",
    "            input_dim=vocab_size, output_dim=embed_dim\n",
    "        )\n",
    "        self.position_embeddings = layers.Embedding(\n",
    "            input_dim=sequence_length, output_dim=embed_dim\n",
    "        )\n",
    "        self.sequence_length = sequence_length\n",
    "        self.vocab_size = vocab_size\n",
    "        self.embed_dim = embed_dim\n",
    "\n",
    "    def call(self, inputs):\n",
    "        length = tf.shape(inputs)[-1]\n",
    "        positions = tf.range(start=0, limit=length, delta=1)\n",
    "        embedded_tokens = self.token_embeddings(inputs)\n",
    "        embedded_positions = self.position_embeddings(positions)\n",
    "        return embedded_tokens + embedded_positions\n",
    "\n",
    "    def compute_mask(self, inputs, mask=None):\n",
    "        if mask is None:\n",
    "            return None\n",
    "        else:\n",
    "            return tf.math.not_equal(inputs,0)\n",
    "        #ops.not_equal(inputs, 0)\n",
    "\n",
    "    def get_config(self):\n",
    "        config = super().get_config()\n",
    "        config.update(\n",
    "            {\n",
    "                \"sequence_length\": self.sequence_length,\n",
    "                \"vocab_size\": self.vocab_size,\n",
    "                \"embed_dim\": self.embed_dim,\n",
    "            }\n",
    "        )\n",
    "        return config\n",
    "\n",
    "\n",
    "class TransformerDecoder(layers.Layer):\n",
    "    def __init__(self, embed_dim, latent_dim, num_heads, **kwargs):\n",
    "        super().__init__(**kwargs)\n",
    "        self.embed_dim = embed_dim\n",
    "        self.latent_dim = latent_dim\n",
    "        self.num_heads = num_heads\n",
    "        self.attention_1 = layers.MultiHeadAttention(\n",
    "            num_heads=num_heads, key_dim=embed_dim\n",
    "        )\n",
    "        self.attention_2 = layers.MultiHeadAttention(\n",
    "            num_heads=num_heads, key_dim=embed_dim\n",
    "        )\n",
    "        self.dense_proj = keras.Sequential(\n",
    "            [\n",
    "                layers.Dense(latent_dim, activation=\"relu\"),\n",
    "                layers.Dense(embed_dim),\n",
    "            ]\n",
    "        )\n",
    "        self.layernorm_1 = layers.LayerNormalization()\n",
    "        self.layernorm_2 = layers.LayerNormalization()\n",
    "        self.layernorm_3 = layers.LayerNormalization()\n",
    "        self.supports_masking = True\n",
    "\n",
    "    def call(self, inputs, encoder_outputs, mask=None):\n",
    "        causal_mask = self.get_causal_attention_mask(inputs)\n",
    "        if mask is not None:\n",
    "            padding_mask = tf.cast(mask[:, None, :], dtype=\"int32\")\n",
    "            padding_mask = tf.minimum(padding_mask, causal_mask)\n",
    "        else:\n",
    "            padding_mask = None\n",
    "\n",
    "        attention_output_1 = self.attention_1(\n",
    "            query=inputs, value=inputs, key=inputs, attention_mask=causal_mask\n",
    "        )\n",
    "        out_1 = self.layernorm_1(inputs + attention_output_1)\n",
    "\n",
    "        attention_output_2 = self.attention_2(\n",
    "            query=out_1,\n",
    "            value=encoder_outputs,\n",
    "            key=encoder_outputs,\n",
    "            attention_mask=padding_mask,\n",
    "        )\n",
    "        out_2 = self.layernorm_2(out_1 + attention_output_2)\n",
    "\n",
    "        proj_output = self.dense_proj(out_2)\n",
    "        return self.layernorm_3(out_2 + proj_output)\n",
    "\n",
    "    def get_causal_attention_mask(self, inputs):\n",
    "        input_shape = tf.shape(inputs)\n",
    "        batch_size, sequence_length = input_shape[0], input_shape[1]\n",
    "        i = tf.range(sequence_length)[:, None]\n",
    "        j = tf.range(sequence_length)\n",
    "        mask = tf.cast(i >= j, dtype=\"int32\")\n",
    "        mask = tf.reshape(mask, (1, input_shape[1], input_shape[1]))\n",
    "        mult = tf.concat(\n",
    "            [tf.expand_dims(batch_size, -1), tf.convert_to_tensor([1, 1])],\n",
    "            axis=0,\n",
    "        )\n",
    "        return tf.tile(mask, mult)\n",
    "\n",
    "    def get_config(self):\n",
    "        config = super().get_config()\n",
    "        config.update(\n",
    "            {\n",
    "                \"embed_dim\": self.embed_dim,\n",
    "                \"latent_dim\": self.latent_dim,\n",
    "                \"num_heads\": self.num_heads,\n",
    "            }\n",
    "        )\n",
    "        return config\n"
   ]
  },
  {
   "cell_type": "code",
   "execution_count": 35,
   "metadata": {},
   "outputs": [],
   "source": [
    "def planar_hamiltonian_loss_(y_true, y_pred):\n",
    "    m=y_pred\n",
    "    m=m>0.5\n",
    "    m=tf.cast(m,tf.int64)\n",
    "    \n",
    "    n=barnette_graph_padded_input\n",
    "    n=tf.cast(n, dtype=tf.dtypes.int64)\n",
    "    \n",
    "    I=tf.eye(hamiltonian_cycles_padded[0].shape[0], dtype=tf.dtypes.int64)\n",
    "    J=tf.map_fn(lambda m : m*I, elems=(m))\n",
    "    K=tf.matmul(J,n)\n",
    "    \n",
    "    K=tf.map_fn(lambda i: tf.reshape(i,[-1]), elems=(K))\n",
    "    \n",
    "    vertex_count= tf.map_fn(lambda i : tf.cast([tf.reduce_max(i)],dtype=tf.int64) , elems=(n))\n",
    "        \n",
    "    boundary_vertices=tf.map_fn(lambda i : tf.cast([tf.math.reduce_sum(tf.cast(tf.unique_with_counts(i)[2]<=2,tf.int64))],tf.int64) , elems=(K))\n",
    "        \n",
    "    interior_vertices=tf.map_fn(lambda i : tf.cast([tf.math.reduce_sum(tf.cast(tf.unique_with_counts(i)[2]>2,tf.int64))-1],dtype=tf.int64) , elems=(K))\n",
    "    \n",
    "    boundary_vertices_proportion= boundary_vertices/vertex_count\n",
    "    interior_vertices_proportion= interior_vertices/vertex_count\n",
    "        \n",
    "    y_pred=tf.concat([boundary_vertices_proportion,interior_vertices_proportion],axis=1)\n",
    "    \n",
    "    l=-(1-y_pred[0][:,0])*tf.math.log((1-y_pred[0][:,0]))-(y_pred[0][:,1])*tf.math.log((y_pred[0][:,1]))\n",
    "    \n",
    "\n",
    "        \n",
    "    return l"
   ]
  },
  {
   "cell_type": "code",
   "execution_count": 36,
   "metadata": {},
   "outputs": [],
   "source": [
    "def y_true_calculator(y_true_logits,barnette_graph_padded_input):\n",
    "    m=y_true_logits\n",
    "    m=m>0.5\n",
    "    m=tf.cast(m,tf.int64)\n",
    "    \n",
    "    n=barnette_graph_padded_input\n",
    "    n=tf.cast(n, dtype=tf.dtypes.int64)\n",
    "    \n",
    "    I=tf.eye(hamiltonian_cycles_padded[0].shape[0], dtype=tf.dtypes.int64)\n",
    "    J=tf.map_fn(lambda m : m*I, elems=(m))\n",
    "    K=tf.matmul(J,n)\n",
    "    \n",
    "    K=tf.map_fn(lambda i: tf.reshape(i,[-1]), elems=(K))\n",
    "    \n",
    "    vertex_count= tf.map_fn(lambda i : tf.cast([tf.reduce_max(i)],dtype=tf.int64) , elems=(n))\n",
    "        \n",
    "    boundary_vertices=tf.map_fn(lambda i : tf.cast([tf.math.reduce_sum(tf.cast(tf.unique_with_counts(i)[2]<=2,tf.int64))],tf.int64) , elems=(K))\n",
    "        \n",
    "    interior_vertices=tf.map_fn(lambda i : tf.cast([tf.math.reduce_sum(tf.cast(tf.unique_with_counts(i)[2]>2,tf.int64))-1],dtype=tf.int64) , elems=(K))\n",
    "    \n",
    "    boundary_vertices_proportion= boundary_vertices/vertex_count\n",
    "    interior_vertices_proportion= interior_vertices/vertex_count\n",
    "        \n",
    "    y_true=tf.concat([boundary_vertices_proportion,interior_vertices_proportion],axis=1)\n",
    "    \n",
    "    return y_true"
   ]
  },
  {
   "cell_type": "code",
   "execution_count": 39,
   "metadata": {},
   "outputs": [
    {
     "data": {
      "text/plain": [
       "24"
      ]
     },
     "execution_count": 39,
     "metadata": {},
     "output_type": "execute_result"
    }
   ],
   "source": [
    "hamiltonian_cycles_padded[0].shape[0]"
   ]
  },
  {
   "cell_type": "code",
   "execution_count": 37,
   "metadata": {},
   "outputs": [
    {
     "name": "stdout",
     "output_type": "stream",
     "text": [
      "WARNING:tensorflow:From C:\\ProgramData\\anaconda3\\Lib\\site-packages\\keras\\src\\backend\\tensorflow\\core.py:174: The name tf.placeholder is deprecated. Please use tf.compat.v1.placeholder instead.\n",
      "\n"
     ]
    }
   ],
   "source": [
    "embed_dim = 256\n",
    "latent_dim = 2048\n",
    "num_heads = 2\n",
    "batch_size=2\n",
    "\n",
    "\n",
    "barnette_graph = keras.Input(shape=(barnette_graphs_trn.shape[1],), dtype=\"int64\")\n",
    "x_1 = PositionalEmbedding(2*max_barnette_len, len(barnette_vocab), embed_dim)(barnette_graph)\n",
    "x_2 = TransformerEncoder(embed_dim, latent_dim, num_heads)(x_1)\n",
    "x_3 = keras.layers.Flatten()(x_2)\n",
    "x_4 = keras.layers.Dense(132, activation='relu')(x_3)\n",
    "hamiltonian_cycle_logits = keras.layers.Dense(hamiltonian_cycles_padded[0].shape[0], activation='sigmoid')(x_4)\n",
    "boundary_interior_prop_predictor= keras.layers.Dense(2, activation='sigmoid')(hamiltonian_cycle_logits)"
   ]
  },
  {
   "cell_type": "code",
   "execution_count": 38,
   "metadata": {},
   "outputs": [],
   "source": [
    "boundary_interior_prop = keras.Model(inputs=barnette_graph, outputs=boundary_interior_prop_predictor)"
   ]
  },
  {
   "cell_type": "code",
   "execution_count": 39,
   "metadata": {},
   "outputs": [
    {
     "data": {
      "text/html": [
       "<pre style=\"white-space:pre;overflow-x:auto;line-height:normal;font-family:Menlo,'DejaVu Sans Mono',consolas,'Courier New',monospace\"><span style=\"font-weight: bold\">Model: \"functional_2\"</span>\n",
       "</pre>\n"
      ],
      "text/plain": [
       "\u001b[1mModel: \"functional_2\"\u001b[0m\n"
      ]
     },
     "metadata": {},
     "output_type": "display_data"
    },
    {
     "data": {
      "text/html": [
       "<pre style=\"white-space:pre;overflow-x:auto;line-height:normal;font-family:Menlo,'DejaVu Sans Mono',consolas,'Courier New',monospace\">┏━━━━━━━━━━━━━━━━━━━━━━━━━━━━━━━━━━━━━━┳━━━━━━━━━━━━━━━━━━━━━━━━━━━━━┳━━━━━━━━━━━━━━━━━┓\n",
       "┃<span style=\"font-weight: bold\"> Layer (type)                         </span>┃<span style=\"font-weight: bold\"> Output Shape                </span>┃<span style=\"font-weight: bold\">         Param # </span>┃\n",
       "┡━━━━━━━━━━━━━━━━━━━━━━━━━━━━━━━━━━━━━━╇━━━━━━━━━━━━━━━━━━━━━━━━━━━━━╇━━━━━━━━━━━━━━━━━┩\n",
       "│ input_layer (<span style=\"color: #0087ff; text-decoration-color: #0087ff\">InputLayer</span>)             │ (<span style=\"color: #00d7ff; text-decoration-color: #00d7ff\">None</span>, <span style=\"color: #00af00; text-decoration-color: #00af00\">401</span>)                 │               <span style=\"color: #00af00; text-decoration-color: #00af00\">0</span> │\n",
       "├──────────────────────────────────────┼─────────────────────────────┼─────────────────┤\n",
       "│ positional_embedding                 │ (<span style=\"color: #00d7ff; text-decoration-color: #00d7ff\">None</span>, <span style=\"color: #00af00; text-decoration-color: #00af00\">401</span>, <span style=\"color: #00af00; text-decoration-color: #00af00\">256</span>)            │         <span style=\"color: #00af00; text-decoration-color: #00af00\">192,000</span> │\n",
       "│ (<span style=\"color: #0087ff; text-decoration-color: #0087ff\">PositionalEmbedding</span>)                │                             │                 │\n",
       "├──────────────────────────────────────┼─────────────────────────────┼─────────────────┤\n",
       "│ transformer_encoder                  │ (<span style=\"color: #00d7ff; text-decoration-color: #00d7ff\">None</span>, <span style=\"color: #00af00; text-decoration-color: #00af00\">401</span>, <span style=\"color: #00af00; text-decoration-color: #00af00\">256</span>)            │       <span style=\"color: #00af00; text-decoration-color: #00af00\">1,577,984</span> │\n",
       "│ (<span style=\"color: #0087ff; text-decoration-color: #0087ff\">TransformerEncoder</span>)                 │                             │                 │\n",
       "├──────────────────────────────────────┼─────────────────────────────┼─────────────────┤\n",
       "│ flatten (<span style=\"color: #0087ff; text-decoration-color: #0087ff\">Flatten</span>)                    │ (<span style=\"color: #00d7ff; text-decoration-color: #00d7ff\">None</span>, <span style=\"color: #00af00; text-decoration-color: #00af00\">102656</span>)              │               <span style=\"color: #00af00; text-decoration-color: #00af00\">0</span> │\n",
       "├──────────────────────────────────────┼─────────────────────────────┼─────────────────┤\n",
       "│ dense_2 (<span style=\"color: #0087ff; text-decoration-color: #0087ff\">Dense</span>)                      │ (<span style=\"color: #00d7ff; text-decoration-color: #00d7ff\">None</span>, <span style=\"color: #00af00; text-decoration-color: #00af00\">132</span>)                 │      <span style=\"color: #00af00; text-decoration-color: #00af00\">13,550,724</span> │\n",
       "├──────────────────────────────────────┼─────────────────────────────┼─────────────────┤\n",
       "│ dense_3 (<span style=\"color: #0087ff; text-decoration-color: #0087ff\">Dense</span>)                      │ (<span style=\"color: #00d7ff; text-decoration-color: #00d7ff\">None</span>, <span style=\"color: #00af00; text-decoration-color: #00af00\">24</span>)                  │           <span style=\"color: #00af00; text-decoration-color: #00af00\">3,192</span> │\n",
       "├──────────────────────────────────────┼─────────────────────────────┼─────────────────┤\n",
       "│ dense_4 (<span style=\"color: #0087ff; text-decoration-color: #0087ff\">Dense</span>)                      │ (<span style=\"color: #00d7ff; text-decoration-color: #00d7ff\">None</span>, <span style=\"color: #00af00; text-decoration-color: #00af00\">2</span>)                   │              <span style=\"color: #00af00; text-decoration-color: #00af00\">50</span> │\n",
       "└──────────────────────────────────────┴─────────────────────────────┴─────────────────┘\n",
       "</pre>\n"
      ],
      "text/plain": [
       "┏━━━━━━━━━━━━━━━━━━━━━━━━━━━━━━━━━━━━━━┳━━━━━━━━━━━━━━━━━━━━━━━━━━━━━┳━━━━━━━━━━━━━━━━━┓\n",
       "┃\u001b[1m \u001b[0m\u001b[1mLayer (type)                        \u001b[0m\u001b[1m \u001b[0m┃\u001b[1m \u001b[0m\u001b[1mOutput Shape               \u001b[0m\u001b[1m \u001b[0m┃\u001b[1m \u001b[0m\u001b[1m        Param #\u001b[0m\u001b[1m \u001b[0m┃\n",
       "┡━━━━━━━━━━━━━━━━━━━━━━━━━━━━━━━━━━━━━━╇━━━━━━━━━━━━━━━━━━━━━━━━━━━━━╇━━━━━━━━━━━━━━━━━┩\n",
       "│ input_layer (\u001b[38;5;33mInputLayer\u001b[0m)             │ (\u001b[38;5;45mNone\u001b[0m, \u001b[38;5;34m401\u001b[0m)                 │               \u001b[38;5;34m0\u001b[0m │\n",
       "├──────────────────────────────────────┼─────────────────────────────┼─────────────────┤\n",
       "│ positional_embedding                 │ (\u001b[38;5;45mNone\u001b[0m, \u001b[38;5;34m401\u001b[0m, \u001b[38;5;34m256\u001b[0m)            │         \u001b[38;5;34m192,000\u001b[0m │\n",
       "│ (\u001b[38;5;33mPositionalEmbedding\u001b[0m)                │                             │                 │\n",
       "├──────────────────────────────────────┼─────────────────────────────┼─────────────────┤\n",
       "│ transformer_encoder                  │ (\u001b[38;5;45mNone\u001b[0m, \u001b[38;5;34m401\u001b[0m, \u001b[38;5;34m256\u001b[0m)            │       \u001b[38;5;34m1,577,984\u001b[0m │\n",
       "│ (\u001b[38;5;33mTransformerEncoder\u001b[0m)                 │                             │                 │\n",
       "├──────────────────────────────────────┼─────────────────────────────┼─────────────────┤\n",
       "│ flatten (\u001b[38;5;33mFlatten\u001b[0m)                    │ (\u001b[38;5;45mNone\u001b[0m, \u001b[38;5;34m102656\u001b[0m)              │               \u001b[38;5;34m0\u001b[0m │\n",
       "├──────────────────────────────────────┼─────────────────────────────┼─────────────────┤\n",
       "│ dense_2 (\u001b[38;5;33mDense\u001b[0m)                      │ (\u001b[38;5;45mNone\u001b[0m, \u001b[38;5;34m132\u001b[0m)                 │      \u001b[38;5;34m13,550,724\u001b[0m │\n",
       "├──────────────────────────────────────┼─────────────────────────────┼─────────────────┤\n",
       "│ dense_3 (\u001b[38;5;33mDense\u001b[0m)                      │ (\u001b[38;5;45mNone\u001b[0m, \u001b[38;5;34m24\u001b[0m)                  │           \u001b[38;5;34m3,192\u001b[0m │\n",
       "├──────────────────────────────────────┼─────────────────────────────┼─────────────────┤\n",
       "│ dense_4 (\u001b[38;5;33mDense\u001b[0m)                      │ (\u001b[38;5;45mNone\u001b[0m, \u001b[38;5;34m2\u001b[0m)                   │              \u001b[38;5;34m50\u001b[0m │\n",
       "└──────────────────────────────────────┴─────────────────────────────┴─────────────────┘\n"
      ]
     },
     "metadata": {},
     "output_type": "display_data"
    },
    {
     "data": {
      "text/html": [
       "<pre style=\"white-space:pre;overflow-x:auto;line-height:normal;font-family:Menlo,'DejaVu Sans Mono',consolas,'Courier New',monospace\"><span style=\"font-weight: bold\"> Total params: </span><span style=\"color: #00af00; text-decoration-color: #00af00\">15,323,950</span> (58.46 MB)\n",
       "</pre>\n"
      ],
      "text/plain": [
       "\u001b[1m Total params: \u001b[0m\u001b[38;5;34m15,323,950\u001b[0m (58.46 MB)\n"
      ]
     },
     "metadata": {},
     "output_type": "display_data"
    },
    {
     "data": {
      "text/html": [
       "<pre style=\"white-space:pre;overflow-x:auto;line-height:normal;font-family:Menlo,'DejaVu Sans Mono',consolas,'Courier New',monospace\"><span style=\"font-weight: bold\"> Trainable params: </span><span style=\"color: #00af00; text-decoration-color: #00af00\">15,323,950</span> (58.46 MB)\n",
       "</pre>\n"
      ],
      "text/plain": [
       "\u001b[1m Trainable params: \u001b[0m\u001b[38;5;34m15,323,950\u001b[0m (58.46 MB)\n"
      ]
     },
     "metadata": {},
     "output_type": "display_data"
    },
    {
     "data": {
      "text/html": [
       "<pre style=\"white-space:pre;overflow-x:auto;line-height:normal;font-family:Menlo,'DejaVu Sans Mono',consolas,'Courier New',monospace\"><span style=\"font-weight: bold\"> Non-trainable params: </span><span style=\"color: #00af00; text-decoration-color: #00af00\">0</span> (0.00 B)\n",
       "</pre>\n"
      ],
      "text/plain": [
       "\u001b[1m Non-trainable params: \u001b[0m\u001b[38;5;34m0\u001b[0m (0.00 B)\n"
      ]
     },
     "metadata": {},
     "output_type": "display_data"
    }
   ],
   "source": [
    "boundary_interior_prop.summary()"
   ]
  },
  {
   "cell_type": "code",
   "execution_count": 40,
   "metadata": {},
   "outputs": [],
   "source": [
    "logits_predictor=keras.Model(inputs=barnette_graph, outputs=hamiltonian_cycle_logits)"
   ]
  },
  {
   "cell_type": "code",
   "execution_count": 41,
   "metadata": {},
   "outputs": [
    {
     "data": {
      "text/html": [
       "<pre style=\"white-space:pre;overflow-x:auto;line-height:normal;font-family:Menlo,'DejaVu Sans Mono',consolas,'Courier New',monospace\"><span style=\"font-weight: bold\">Model: \"functional_4\"</span>\n",
       "</pre>\n"
      ],
      "text/plain": [
       "\u001b[1mModel: \"functional_4\"\u001b[0m\n"
      ]
     },
     "metadata": {},
     "output_type": "display_data"
    },
    {
     "data": {
      "text/html": [
       "<pre style=\"white-space:pre;overflow-x:auto;line-height:normal;font-family:Menlo,'DejaVu Sans Mono',consolas,'Courier New',monospace\">┏━━━━━━━━━━━━━━━━━━━━━━━━━━━━━━━━━━━━━━┳━━━━━━━━━━━━━━━━━━━━━━━━━━━━━┳━━━━━━━━━━━━━━━━━┓\n",
       "┃<span style=\"font-weight: bold\"> Layer (type)                         </span>┃<span style=\"font-weight: bold\"> Output Shape                </span>┃<span style=\"font-weight: bold\">         Param # </span>┃\n",
       "┡━━━━━━━━━━━━━━━━━━━━━━━━━━━━━━━━━━━━━━╇━━━━━━━━━━━━━━━━━━━━━━━━━━━━━╇━━━━━━━━━━━━━━━━━┩\n",
       "│ input_layer (<span style=\"color: #0087ff; text-decoration-color: #0087ff\">InputLayer</span>)             │ (<span style=\"color: #00d7ff; text-decoration-color: #00d7ff\">None</span>, <span style=\"color: #00af00; text-decoration-color: #00af00\">401</span>)                 │               <span style=\"color: #00af00; text-decoration-color: #00af00\">0</span> │\n",
       "├──────────────────────────────────────┼─────────────────────────────┼─────────────────┤\n",
       "│ positional_embedding                 │ (<span style=\"color: #00d7ff; text-decoration-color: #00d7ff\">None</span>, <span style=\"color: #00af00; text-decoration-color: #00af00\">401</span>, <span style=\"color: #00af00; text-decoration-color: #00af00\">256</span>)            │         <span style=\"color: #00af00; text-decoration-color: #00af00\">192,000</span> │\n",
       "│ (<span style=\"color: #0087ff; text-decoration-color: #0087ff\">PositionalEmbedding</span>)                │                             │                 │\n",
       "├──────────────────────────────────────┼─────────────────────────────┼─────────────────┤\n",
       "│ transformer_encoder                  │ (<span style=\"color: #00d7ff; text-decoration-color: #00d7ff\">None</span>, <span style=\"color: #00af00; text-decoration-color: #00af00\">401</span>, <span style=\"color: #00af00; text-decoration-color: #00af00\">256</span>)            │       <span style=\"color: #00af00; text-decoration-color: #00af00\">1,577,984</span> │\n",
       "│ (<span style=\"color: #0087ff; text-decoration-color: #0087ff\">TransformerEncoder</span>)                 │                             │                 │\n",
       "├──────────────────────────────────────┼─────────────────────────────┼─────────────────┤\n",
       "│ flatten (<span style=\"color: #0087ff; text-decoration-color: #0087ff\">Flatten</span>)                    │ (<span style=\"color: #00d7ff; text-decoration-color: #00d7ff\">None</span>, <span style=\"color: #00af00; text-decoration-color: #00af00\">102656</span>)              │               <span style=\"color: #00af00; text-decoration-color: #00af00\">0</span> │\n",
       "├──────────────────────────────────────┼─────────────────────────────┼─────────────────┤\n",
       "│ dense_2 (<span style=\"color: #0087ff; text-decoration-color: #0087ff\">Dense</span>)                      │ (<span style=\"color: #00d7ff; text-decoration-color: #00d7ff\">None</span>, <span style=\"color: #00af00; text-decoration-color: #00af00\">132</span>)                 │      <span style=\"color: #00af00; text-decoration-color: #00af00\">13,550,724</span> │\n",
       "├──────────────────────────────────────┼─────────────────────────────┼─────────────────┤\n",
       "│ dense_3 (<span style=\"color: #0087ff; text-decoration-color: #0087ff\">Dense</span>)                      │ (<span style=\"color: #00d7ff; text-decoration-color: #00d7ff\">None</span>, <span style=\"color: #00af00; text-decoration-color: #00af00\">24</span>)                  │           <span style=\"color: #00af00; text-decoration-color: #00af00\">3,192</span> │\n",
       "└──────────────────────────────────────┴─────────────────────────────┴─────────────────┘\n",
       "</pre>\n"
      ],
      "text/plain": [
       "┏━━━━━━━━━━━━━━━━━━━━━━━━━━━━━━━━━━━━━━┳━━━━━━━━━━━━━━━━━━━━━━━━━━━━━┳━━━━━━━━━━━━━━━━━┓\n",
       "┃\u001b[1m \u001b[0m\u001b[1mLayer (type)                        \u001b[0m\u001b[1m \u001b[0m┃\u001b[1m \u001b[0m\u001b[1mOutput Shape               \u001b[0m\u001b[1m \u001b[0m┃\u001b[1m \u001b[0m\u001b[1m        Param #\u001b[0m\u001b[1m \u001b[0m┃\n",
       "┡━━━━━━━━━━━━━━━━━━━━━━━━━━━━━━━━━━━━━━╇━━━━━━━━━━━━━━━━━━━━━━━━━━━━━╇━━━━━━━━━━━━━━━━━┩\n",
       "│ input_layer (\u001b[38;5;33mInputLayer\u001b[0m)             │ (\u001b[38;5;45mNone\u001b[0m, \u001b[38;5;34m401\u001b[0m)                 │               \u001b[38;5;34m0\u001b[0m │\n",
       "├──────────────────────────────────────┼─────────────────────────────┼─────────────────┤\n",
       "│ positional_embedding                 │ (\u001b[38;5;45mNone\u001b[0m, \u001b[38;5;34m401\u001b[0m, \u001b[38;5;34m256\u001b[0m)            │         \u001b[38;5;34m192,000\u001b[0m │\n",
       "│ (\u001b[38;5;33mPositionalEmbedding\u001b[0m)                │                             │                 │\n",
       "├──────────────────────────────────────┼─────────────────────────────┼─────────────────┤\n",
       "│ transformer_encoder                  │ (\u001b[38;5;45mNone\u001b[0m, \u001b[38;5;34m401\u001b[0m, \u001b[38;5;34m256\u001b[0m)            │       \u001b[38;5;34m1,577,984\u001b[0m │\n",
       "│ (\u001b[38;5;33mTransformerEncoder\u001b[0m)                 │                             │                 │\n",
       "├──────────────────────────────────────┼─────────────────────────────┼─────────────────┤\n",
       "│ flatten (\u001b[38;5;33mFlatten\u001b[0m)                    │ (\u001b[38;5;45mNone\u001b[0m, \u001b[38;5;34m102656\u001b[0m)              │               \u001b[38;5;34m0\u001b[0m │\n",
       "├──────────────────────────────────────┼─────────────────────────────┼─────────────────┤\n",
       "│ dense_2 (\u001b[38;5;33mDense\u001b[0m)                      │ (\u001b[38;5;45mNone\u001b[0m, \u001b[38;5;34m132\u001b[0m)                 │      \u001b[38;5;34m13,550,724\u001b[0m │\n",
       "├──────────────────────────────────────┼─────────────────────────────┼─────────────────┤\n",
       "│ dense_3 (\u001b[38;5;33mDense\u001b[0m)                      │ (\u001b[38;5;45mNone\u001b[0m, \u001b[38;5;34m24\u001b[0m)                  │           \u001b[38;5;34m3,192\u001b[0m │\n",
       "└──────────────────────────────────────┴─────────────────────────────┴─────────────────┘\n"
      ]
     },
     "metadata": {},
     "output_type": "display_data"
    },
    {
     "data": {
      "text/html": [
       "<pre style=\"white-space:pre;overflow-x:auto;line-height:normal;font-family:Menlo,'DejaVu Sans Mono',consolas,'Courier New',monospace\"><span style=\"font-weight: bold\"> Total params: </span><span style=\"color: #00af00; text-decoration-color: #00af00\">15,323,900</span> (58.46 MB)\n",
       "</pre>\n"
      ],
      "text/plain": [
       "\u001b[1m Total params: \u001b[0m\u001b[38;5;34m15,323,900\u001b[0m (58.46 MB)\n"
      ]
     },
     "metadata": {},
     "output_type": "display_data"
    },
    {
     "data": {
      "text/html": [
       "<pre style=\"white-space:pre;overflow-x:auto;line-height:normal;font-family:Menlo,'DejaVu Sans Mono',consolas,'Courier New',monospace\"><span style=\"font-weight: bold\"> Trainable params: </span><span style=\"color: #00af00; text-decoration-color: #00af00\">15,323,900</span> (58.46 MB)\n",
       "</pre>\n"
      ],
      "text/plain": [
       "\u001b[1m Trainable params: \u001b[0m\u001b[38;5;34m15,323,900\u001b[0m (58.46 MB)\n"
      ]
     },
     "metadata": {},
     "output_type": "display_data"
    },
    {
     "data": {
      "text/html": [
       "<pre style=\"white-space:pre;overflow-x:auto;line-height:normal;font-family:Menlo,'DejaVu Sans Mono',consolas,'Courier New',monospace\"><span style=\"font-weight: bold\"> Non-trainable params: </span><span style=\"color: #00af00; text-decoration-color: #00af00\">0</span> (0.00 B)\n",
       "</pre>\n"
      ],
      "text/plain": [
       "\u001b[1m Non-trainable params: \u001b[0m\u001b[38;5;34m0\u001b[0m (0.00 B)\n"
      ]
     },
     "metadata": {},
     "output_type": "display_data"
    }
   ],
   "source": [
    "logits_predictor.summary()"
   ]
  },
  {
   "cell_type": "code",
   "execution_count": null,
   "metadata": {},
   "outputs": [
    {
     "data": {
      "application/vnd.jupyter.widget-view+json": {
       "model_id": "7985d1374f69421fb16cbe4fd70894de",
       "version_major": 2,
       "version_minor": 0
      },
      "text/plain": [
       "  0%|          | 0/700 [00:00<?, ?it/s]"
      ]
     },
     "metadata": {},
     "output_type": "display_data"
    }
   ],
   "source": [
    "batchsize=50\n",
    "num_epochs=2\n",
    "\n",
    "opt = tf.keras.optimizers.Adam(learning_rate=0.00001)\n",
    "\n",
    "for epoch in range(num_epochs):\n",
    "    for step in tqdm(range(barnette_graphs_trn.shape[0]//batchsize)):\n",
    "        \n",
    "        start_idx = batchsize*step\n",
    "        end_idx = batchsize*(step+1)\n",
    "        \n",
    "        X_batch =barnette_graphs_trn[start_idx:end_idx]\n",
    "        padded =barnette_graphs_padded_trn[start_idx:end_idx]\n",
    "        #y_true= pseudolabel_trn[start_idx:end_idx]\n",
    "        \n",
    "        with tf.GradientTape() as tape:\n",
    "            y_pred = boundary_interior_prop(X_batch)\n",
    "            y_true= y_true_calculator(logits_predictor(X_batch),padded)\n",
    "            \n",
    "            bce = keras.losses.BinaryCrossentropy(reduction=None)\n",
    "            loss = bce(y_true, y_pred)\n",
    "        \n",
    "        grads = tape.gradient(loss, boundary_interior_prop.trainable_variables)\n",
    "        opt.apply_gradients(zip(grads, boundary_interior_prop.trainable_variables))\n",
    "        \n",
    "    print(str(epoch+1)+\" complete with average loss = \"+str(float(tf.math.reduce_mean(loss))))"
   ]
  },
  {
   "cell_type": "raw",
   "metadata": {
    "id": "Yya-L2ajuEfo"
   },
   "source": [
    "class Barnette_Graph(object):\n",
    "    def __init__(self, face_vertex_dict):\n",
    "\n",
    "        # states can be defined as path connected subsets of the set of faces such that,\n",
    "            # 1. have no points in thier interior\n",
    "            # 2. the complement of the set of faces contained in a state is also path connected\n",
    "\n",
    "        # face_vertex_dict is a dictionary whose keys are faces and values are the vertex indices of the corresponding key face\n",
    "        # we input\n",
    "\n",
    "        self.face_vertex_dict=face_vertex_dict\n",
    "\n",
    "    def string_to_list(self,string):\n",
    "        l=string.split('.')\n",
    "        return(l)\n",
    "\n",
    "    def vertices_in_state(self, state):\n",
    "        state_list=self.string_to_list(state)\n",
    "        vertices_in_state=[]\n",
    "        for face in state_list:\n",
    "            vertices_in_face=self.face_vertex_dict[face]\n",
    "            for vertex in vertices_in_face:\n",
    "                vertices_in_state.append(vertex)\n",
    "        return vertices_in_state\n",
    "\n",
    "    def boundary_and_interior(self, state):\n",
    "        vertices_in_state=self.vertices_in_state(state)\n",
    "        unique, counts = np.unique(np.array(vertices_in_state), return_counts=True)\n",
    "        boundary_vertex_list=unique[counts<3]\n",
    "        interior_vertex_list=unique[counts>=3]\n",
    "        return boundary_vertex_list, interior_vertex_list\n",
    "\n",
    "    def nebs_of_face(self, face):\n",
    "        face_vertices=set(self.face_vertex_dict[face])\n",
    "        nebs=[]\n",
    "        for key in self.face_vertex_dict.keys():\n",
    "            neb_vertices=set(self.face_vertex_dict[key])\n",
    "            if len(face_vertices.intersection(neb_vertices))==2:\n",
    "                nebs.append(key)\n",
    "        return nebs\n",
    "\n",
    "    def is_valid_state(self,state,face):\n",
    "        ## by construction a state is path connected\n",
    "        ## check how many vertices in the interior\n",
    "        newState=state+'.'+face\n",
    "        _,interior_vertices=self.boundary_and_interior(newState)\n",
    "\n",
    "\n",
    "        ## check whether complement is path connected\n",
    "        vertices_in_state=self.vertices_in_state(state)\n",
    "        state_vertices=set(vertices_in_state)\n",
    "        face_vertices=set(self.face_vertex_dict[face])\n",
    "\n",
    "        if len(face_vertices.intersection(state_vertices))>2:\n",
    "            return False\n",
    "        elif len(interior_vertices)>0:\n",
    "            return False\n",
    "        else:\n",
    "            return True\n",
    "\n",
    "        return (succ)"
   ]
  },
  {
   "cell_type": "raw",
   "metadata": {
    "id": "K6Jen8unvK9V"
   },
   "source": [
    "barnette_graphs_dicts_val_raw=barnette_graphs[num_train_samples + num_val_samples :]"
   ]
  },
  {
   "cell_type": "raw",
   "metadata": {
    "id": "c1XzZsQpvusF"
   },
   "source": [
    "barnette_graphs_dicts_val=[]\n",
    "for i in range(len(barnette_graphs_dicts_val_raw)):\n",
    "  face_info_dot_seperated=barnette_graphs_dicts_val_raw[i].split(' ')\n",
    "  face_vertex_dict={}\n",
    "  for k in range(len(face_info_dot_seperated)):\n",
    "    num_list=[eval(i) for i in face_info_dot_seperated[k].split('.')]\n",
    "    face_vertex_dict[str(k+1)]=num_list\n",
    "  barnette_graphs_dicts_val.append(face_vertex_dict)"
   ]
  },
  {
   "cell_type": "raw",
   "metadata": {
    "id": "sEZ9VLMax4qp"
   },
   "source": [
    "barnette_graph=Barnette_Graph(barnette_graphs_dicts_val[0])"
   ]
  },
  {
   "cell_type": "raw",
   "metadata": {
    "id": "LYSbIiRjyKXO"
   },
   "source": [
    "hamiltonian_info_strings=[]\n",
    "for k in range(len(predictions)):\n",
    "  hamiltonian_info_list=list(np.where(np.digitize(predictions[k], bins)[:len(barnette_graphs_dicts_val[k].keys())]==1)[0]+1)\n",
    "  hamiltonian_info_string=''\n",
    "  for i in range(len(hamiltonian_info_list)):\n",
    "    hamiltonian_info_string=hamiltonian_info_string+str(hamiltonian_info_list[i])+'.'\n",
    "  hamiltonian_info_string=hamiltonian_info_string[:-1]\n",
    "  hamiltonian_info_strings.append(hamiltonian_info_string)"
   ]
  },
  {
   "cell_type": "raw",
   "metadata": {
    "colab": {
     "base_uri": "https://localhost:8080/"
    },
    "id": "MEgviumvx_Us",
    "outputId": "a0d1bffe-d214-4e03-c856-e0871e1eb409"
   },
   "source": [
    "count=0\n",
    "unmatched_indices=[]\n",
    "unmatched_info=[]\n",
    "for i in range(len(predictions)):\n",
    "    barnette_graph=Barnette_Graph(barnette_graphs_dicts_val[i])\n",
    "    predicted_hamiltonian_cycle=hamiltonian_info_strings[i]\n",
    "    boundary,interior=barnette_graph.boundary_and_interior(predicted_hamiltonian_cycle)\n",
    "\n",
    "    num_vertices=0\n",
    "    for key in barnette_graphs_dicts_val[i]:\n",
    "      m=max(barnette_graphs_dicts_val[i][key])\n",
    "      if m>num_vertices:\n",
    "        num_vertices=m\n",
    "\n",
    "    if len(boundary)==num_vertices and len(interior)==0:\n",
    "      count=count+1\n",
    "    else:\n",
    "      unmatched_indices.append(i)\n",
    "      unmatched_info.append((num_vertices-len(boundary),len(interior)))\n",
    "\n",
    "print('correct hamiltonian cycle prediction ratio of the model:',count/len(predictions))"
   ]
  },
  {
   "cell_type": "code",
   "execution_count": null,
   "metadata": {
    "id": "5pBu0bm81ULP"
   },
   "outputs": [],
   "source": [
    "#model.save('barnette_to_hamiltonian.keras')"
   ]
  },
  {
   "cell_type": "code",
   "execution_count": null,
   "metadata": {
    "colab": {
     "base_uri": "https://localhost:8080/",
     "height": 17
    },
    "id": "jStySrHa9Shv",
    "outputId": "6b288925-296c-4beb-c325-fb7431109496"
   },
   "outputs": [],
   "source": [
    "#from google.colab import files\n",
    "#files.download('barnette_to_hamiltonian.keras')"
   ]
  },
  {
   "cell_type": "code",
   "execution_count": null,
   "metadata": {},
   "outputs": [],
   "source": []
  }
 ],
 "metadata": {
  "accelerator": "GPU",
  "colab": {
   "gpuType": "T4",
   "provenance": []
  },
  "kernelspec": {
   "display_name": "Python 3 (ipykernel)",
   "language": "python",
   "name": "python3"
  },
  "language_info": {
   "codemirror_mode": {
    "name": "ipython",
    "version": 3
   },
   "file_extension": ".py",
   "mimetype": "text/x-python",
   "name": "python",
   "nbconvert_exporter": "python",
   "pygments_lexer": "ipython3",
   "version": "3.11.7"
  }
 },
 "nbformat": 4,
 "nbformat_minor": 4
}
