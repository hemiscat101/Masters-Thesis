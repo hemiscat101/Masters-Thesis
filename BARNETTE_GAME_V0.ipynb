{
 "cells": [
  {
   "cell_type": "code",
   "execution_count": 1,
   "metadata": {},
   "outputs": [],
   "source": [
    "import numpy as np\n",
    "import itertools\n",
    "import random"
   ]
  },
  {
   "cell_type": "code",
   "execution_count": 2,
   "metadata": {},
   "outputs": [],
   "source": [
    "def findmax(L):\n",
    "    m=0\n",
    "    for i in range(len(L)):\n",
    "        for j in range(len(L[i])):\n",
    "            if L[i][j]>m:\n",
    "                m=L[i][j]\n",
    "    return m\n",
    "\n",
    "\n",
    "def findAdjacentElements(test_list,element):\n",
    "    res = []\n",
    "    for idx, ele in enumerate(test_list):\n",
    "         if ele==element:\n",
    "            # Checking for all cases to append\n",
    "            if idx == 0:\n",
    "                res.append((None, test_list[idx + 1]))\n",
    "            elif idx == len(test_list) - 1:\n",
    "                res.append((test_list[idx - 1], None))\n",
    "            else:\n",
    "                res.append((test_list[idx - 1], test_list[idx + 1]))\n",
    "    return res\n",
    "\n",
    "def plug_at_position(array,element,position):\n",
    "    length_array=len(array)\n",
    "    target_array=[]\n",
    "    count=0\n",
    "    \n",
    "    while count<=position:\n",
    "        target_array=[*target_array,array[count]]\n",
    "        count=count+1\n",
    "        \n",
    "    target_array=[*target_array,element]\n",
    "    while count<len(array):\n",
    "        target_array=[*target_array,array[count]]\n",
    "        count=count+1\n",
    "        \n",
    "    return target_array"
   ]
  },
  {
   "cell_type": "code",
   "execution_count": 3,
   "metadata": {},
   "outputs": [],
   "source": [
    "class Barnette_Graph(object):\n",
    "    def __init__(self, face_vertex_dict):\n",
    "        \n",
    "        #states can be defined as a subset of the set of faces, state space is then the power set of the set of faces\n",
    "        #face_vertex_dict is a dictionary whose keys are faces and values are the vertex indices of the corresponding key face\n",
    "        \n",
    "        self.face_vertex_dict=face_vertex_dict\n",
    "        \n",
    "    def string_to_list(self,string):\n",
    "        l=string.split('.')\n",
    "        return(l)\n",
    "    \n",
    "    def boundary_and_interior(self, state):\n",
    "        state_list=self.string_to_list(state)\n",
    "        vertices_in_state=[]\n",
    "        for face in state_list:\n",
    "            vertices_in_face=self.face_vertex_dict[face]\n",
    "            for vertex in vertices_in_face:\n",
    "                vertices_in_state.append(vertex)\n",
    "        \n",
    "        unique, counts = np.unique(np.array(vertices_in_state), return_counts=True)\n",
    "        boundary_vertex_list=unique[counts<3]\n",
    "        interior_vertex_list=unique[counts>=3]\n",
    "        return boundary_vertex_list, interior_vertex_list\n",
    "    \n",
    "    def startState(self):\n",
    "        maxface='1'\n",
    "        for key in self.face_vertex_dict.keys():\n",
    "            if len(self.face_vertex_dict[key])>len(self.face_vertex_dict[maxface]):\n",
    "                maxface=key\n",
    "        return maxface\n",
    "    \n",
    "    def isEnd(self, state):\n",
    "        boundary_vertex_list, interior_vertex_list=self.boundary_and_interior(state)\n",
    "        return len(boundary_vertex_list) == findmax(list(self.face_vertex_dict.values())) and len(interior_vertex_list)==0\n",
    "    \n",
    "    def actions(self, state):\n",
    "        #return a list of valid actions\n",
    "        state_list=self.string_to_list(state)\n",
    "        result=[]\n",
    "        for key in self.face_vertex_dict.keys():\n",
    "            state_vertices=[]\n",
    "            for face in state_list:\n",
    "                for vertex in self.face_vertex_dict[face]:\n",
    "                    state_vertices.append(vertex)\n",
    "            state_vertices=set(state_vertices)\n",
    "            if key not in state_list:\n",
    "                if len(set(self.face_vertex_dict[key]).intersection(state_vertices))==2:\n",
    "                    result.append(key)\n",
    "        return result\n",
    "        \n",
    "    def Successor_and_Cost(self, state):\n",
    "        # create (new_state, cost) tuple\n",
    "        \n",
    "        allowed_actions=self.actions(state)\n",
    "        \n",
    "        succ_and_cost=[]\n",
    "        for act in allowed_actions:\n",
    "            newState=state+'.'+act\n",
    "            boundary_vertex_list, interior_vertex_list=self.boundary_and_interior(newState)\n",
    "            gamma=1\n",
    "            cost=-len(boundary_vertex_list)+gamma*len(interior_vertex_list)\n",
    "            #cost=(1/len(boundary_vertex_list))+gamma*len(interior_vertex_list)\n",
    "            #cost=100*len(interior_vertex_list)+.000000001\n",
    "            succ_and_cost.append((act,newState,cost))\n",
    "            \n",
    "        return (succ_and_cost)\n",
    "    \n",
    "    #def states(self):\n",
    "    #    states=[]\n",
    "    #    for i in range(1,int(len(list(face_vertex_dict.keys()))*1.5/3)+1):\n",
    "    #        combinations = list(itertools.combinations(list(face_vertex_dict.keys()), i))\n",
    "    #        for s in combinations:\n",
    "    #            s=list(s)\n",
    "    #            s=''.join(map(str, s))\n",
    "    #            states.append(s)\n",
    "    #    return states\n",
    "    "
   ]
  },
  {
   "cell_type": "code",
   "execution_count": 4,
   "metadata": {},
   "outputs": [],
   "source": [
    "def uniformcostsearch(problem):\n",
    "    frontier={}\n",
    "    explored={}\n",
    "    frontier[problem.startState()]=0\n",
    "    \n",
    "    while len(frontier)>0:\n",
    "        \n",
    "        state_with_minimum_pastcost=min(frontier, key=frontier.get)\n",
    "        value=frontier[state_with_minimum_pastcost]\n",
    "        explored[state_with_minimum_pastcost]=value\n",
    "        del frontier[state_with_minimum_pastcost]\n",
    "        \n",
    "        if problem.isEnd(state_with_minimum_pastcost):\n",
    "            last_key = list(explored.keys()) [-1]\n",
    "            return(last_key, explored[last_key])\n",
    "            \n",
    "        for action, newState, cost in problem.Successor_and_Cost(state_with_minimum_pastcost):\n",
    "            if newState in explored:\n",
    "                continue\n",
    "            else:\n",
    "                frontier[newState]= cost +value"
   ]
  },
  {
   "cell_type": "code",
   "execution_count": 5,
   "metadata": {},
   "outputs": [],
   "source": [
    "face_vertex_dict={'1':[1,2,4,3],'2':[5,6,2,1],'3':[2,6,8,4],'4':[3,4,8,7],'5':[5,1,3,7],'6':[5,6,8,7]}"
   ]
  },
  {
   "attachments": {
    "B0.png": {
     "image/png": "[encoded data removed]"
    }
   },
   "cell_type": "markdown",
   "metadata": {},
   "source": [
    "![B0.png](attachment:B0.png)"
   ]
  },
  {
   "cell_type": "code",
   "execution_count": 6,
   "metadata": {},
   "outputs": [],
   "source": [
    "B0=Barnette_Graph(face_vertex_dict)"
   ]
  },
  {
   "cell_type": "code",
   "execution_count": 7,
   "metadata": {},
   "outputs": [
    {
     "data": {
      "text/plain": [
       "{'1': [1, 2, 4, 3],\n",
       " '2': [5, 6, 2, 1],\n",
       " '3': [2, 6, 8, 4],\n",
       " '4': [3, 4, 8, 7],\n",
       " '5': [5, 1, 3, 7],\n",
       " '6': [5, 6, 8, 7]}"
      ]
     },
     "execution_count": 7,
     "metadata": {},
     "output_type": "execute_result"
    }
   ],
   "source": [
    "B0.face_vertex_dict"
   ]
  },
  {
   "cell_type": "code",
   "execution_count": 8,
   "metadata": {},
   "outputs": [
    {
     "data": {
      "text/plain": [
       "'1'"
      ]
     },
     "execution_count": 8,
     "metadata": {},
     "output_type": "execute_result"
    }
   ],
   "source": [
    "B0.startState()"
   ]
  },
  {
   "cell_type": "code",
   "execution_count": 9,
   "metadata": {},
   "outputs": [
    {
     "data": {
      "text/plain": [
       "(array([1, 3, 4, 5, 6, 8]), array([2]))"
      ]
     },
     "execution_count": 9,
     "metadata": {},
     "output_type": "execute_result"
    }
   ],
   "source": [
    "B0.boundary_and_interior('1.2.3')"
   ]
  },
  {
   "cell_type": "code",
   "execution_count": 10,
   "metadata": {},
   "outputs": [
    {
     "data": {
      "text/plain": [
       "False"
      ]
     },
     "execution_count": 10,
     "metadata": {},
     "output_type": "execute_result"
    }
   ],
   "source": [
    "B0.isEnd('4.2.5.1')"
   ]
  },
  {
   "cell_type": "code",
   "execution_count": 11,
   "metadata": {},
   "outputs": [
    {
     "data": {
      "text/plain": [
       "True"
      ]
     },
     "execution_count": 11,
     "metadata": {},
     "output_type": "execute_result"
    }
   ],
   "source": [
    "B0.isEnd('2.6.1')"
   ]
  },
  {
   "cell_type": "code",
   "execution_count": 12,
   "metadata": {},
   "outputs": [
    {
     "data": {
      "text/plain": [
       "['4', '6']"
      ]
     },
     "execution_count": 12,
     "metadata": {},
     "output_type": "execute_result"
    }
   ],
   "source": [
    "B0.actions('1.2')"
   ]
  },
  {
   "cell_type": "code",
   "execution_count": 13,
   "metadata": {},
   "outputs": [
    {
     "data": {
      "text/plain": [
       "[('4', '1.2.4', -8), ('6', '1.2.6', -8)]"
      ]
     },
     "execution_count": 13,
     "metadata": {},
     "output_type": "execute_result"
    }
   ],
   "source": [
    "B0.Successor_and_Cost('1.2')"
   ]
  },
  {
   "cell_type": "code",
   "execution_count": 14,
   "metadata": {},
   "outputs": [
    {
     "data": {
      "text/plain": [
       "[('2', '1.4.2', -8), ('6', '1.4.6', -8)]"
      ]
     },
     "execution_count": 14,
     "metadata": {},
     "output_type": "execute_result"
    }
   ],
   "source": [
    "B0.Successor_and_Cost('1.4')"
   ]
  },
  {
   "cell_type": "code",
   "execution_count": 15,
   "metadata": {},
   "outputs": [
    {
     "data": {
      "text/plain": [
       "('1.2.4', -14)"
      ]
     },
     "execution_count": 15,
     "metadata": {},
     "output_type": "execute_result"
    }
   ],
   "source": [
    "uniformcostsearch(B0)"
   ]
  },
  {
   "cell_type": "code",
   "execution_count": 16,
   "metadata": {},
   "outputs": [],
   "source": [
    "def alpha(face_vertex_dict, random_state=42):\n",
    "    #print(face_vertex_dict)\n",
    "    random.seed(random_state)\n",
    "    np.random.seed(random_state)\n",
    "    \n",
    "    random_face=np.random.choice(list(face_vertex_dict.keys()))\n",
    "    \n",
    "    #print('Randomly chosen face for alpha operation:', random_face)\n",
    "    \n",
    "    odd_edges=[]\n",
    "    even_edges=[]\n",
    "    for i in range(len(face_vertex_dict[random_face])):\n",
    "        if i%2==0:\n",
    "            odd_edges.append((face_vertex_dict[random_face][i],face_vertex_dict[random_face][(i+1)%len(face_vertex_dict[random_face])]))\n",
    "        else:\n",
    "            even_edges.append((face_vertex_dict[random_face][i],face_vertex_dict[random_face][(i+1)%len(face_vertex_dict[random_face])]))\n",
    "        \n",
    "    toss=np.random.choice([1,0])\n",
    "    if toss==1:\n",
    "        selected_edges=[odd_edges[i] for i in (np.random.choice(len(odd_edges),2,replace=False))]\n",
    "    else:\n",
    "        selected_edges=[even_edges[i] for i in (np.random.choice(len(even_edges),2,replace=False))]\n",
    "        \n",
    "    #print('First selected edge for alpha operation:',selected_edges[0])\n",
    "    #print('Second selected edge for alpha operation:',selected_edges[1])\n",
    "    \n",
    "    \n",
    "    F=[]\n",
    "    for key in face_vertex_dict.keys():\n",
    "        random_face_vertices=face_vertex_dict[random_face]\n",
    "        if key!=random_face:\n",
    "            if len(set(face_vertex_dict[key]).intersection(random_face_vertices))==2:\n",
    "                F.append(key)\n",
    "                \n",
    "    \n",
    "    v_face_1_start_index=face_vertex_dict[random_face].index(selected_edges[0][1])\n",
    "    v_face_1_end_index=face_vertex_dict[random_face].index(selected_edges[1][0])\n",
    "    v_face_2_start_index=face_vertex_dict[random_face].index(selected_edges[1][1])\n",
    "    v_face_2_end_index=face_vertex_dict[random_face].index(selected_edges[0][0])\n",
    "    \n",
    "    \n",
    "    face_1=[]\n",
    "    index=v_face_1_start_index\n",
    "    while index%len(face_vertex_dict[random_face])!=v_face_1_end_index:\n",
    "        mod_index=index%len(face_vertex_dict[random_face])\n",
    "        face_1=[*face_1,face_vertex_dict[random_face][mod_index]]\n",
    "        index=index+1\n",
    "    \n",
    "    face_1=[*face_1,face_vertex_dict[random_face][v_face_1_end_index]]\n",
    "    \n",
    "    face_2=[]\n",
    "    index=v_face_2_start_index\n",
    "    while index%len(face_vertex_dict[random_face])!=v_face_2_end_index:\n",
    "        mod_index=index%len(face_vertex_dict[random_face])\n",
    "        face_2=[*face_2,face_vertex_dict[random_face][mod_index]]\n",
    "        index=index+1\n",
    "    face_2=[*face_2,face_vertex_dict[random_face][v_face_2_end_index]]\n",
    "    \n",
    "    \n",
    "    num_vertices=findmax(list(face_vertex_dict.values()))\n",
    "    \n",
    "    new_vertex_1=num_vertices+1\n",
    "    new_vertex_2=num_vertices+2\n",
    "    new_vertex_3=num_vertices+3\n",
    "    new_vertex_4=num_vertices+4\n",
    "    \n",
    "    face_1_with_new_vertex=[new_vertex_2]\n",
    "    for vertex in face_1:\n",
    "        face_1_with_new_vertex=[*face_1_with_new_vertex,vertex]\n",
    "    face_1_with_new_vertex=[*face_1_with_new_vertex,new_vertex_3]\n",
    "    \n",
    "    face_2_with_new_vertex=[new_vertex_4]\n",
    "    for vertex in face_2:\n",
    "        face_2_with_new_vertex=[*face_2_with_new_vertex,vertex]\n",
    "    face_2_with_new_vertex=[*face_2_with_new_vertex,new_vertex_1]\n",
    "        \n",
    "    face_vertex_dict[random_face]=[new_vertex_1,new_vertex_2,new_vertex_3,new_vertex_4]\n",
    "    \n",
    "    face_index_1=str(max([eval(i) for i in list(face_vertex_dict.keys())])+1)\n",
    "    face_index_2=str(max([eval(i) for i in list(face_vertex_dict.keys())])+2)\n",
    "    \n",
    "    face_vertex_dict[face_index_1]=face_1_with_new_vertex\n",
    "    face_vertex_dict[face_index_2]=face_2_with_new_vertex\n",
    "    \n",
    "    \n",
    "    neighbors_of_new_vertex_1_in_new_face_2=findAdjacentElements(face_2_with_new_vertex,new_vertex_1)[0]\n",
    "    neighbors_of_new_vertex_2_in_new_face_1=findAdjacentElements(face_1_with_new_vertex,new_vertex_2)[0]\n",
    "    neighbors_of_new_vertex_3_in_new_face_1=findAdjacentElements(face_1_with_new_vertex,new_vertex_3)[0]\n",
    "    \n",
    "    neighbors_of_new_vertex_4_in_new_face_2=findAdjacentElements(face_2_with_new_vertex,new_vertex_4)[0]\n",
    "    \n",
    "    \n",
    "    \n",
    "    other_affected_faces=[]\n",
    "    \n",
    "    \n",
    "    for face in F:\n",
    "        if len(set(face_vertex_dict[face]).intersection(set(selected_edges[0])))==2:\n",
    "            other_affected_faces=(*other_affected_faces,face)\n",
    "            \n",
    "      \n",
    "    for face in F:\n",
    "        if len(set(face_vertex_dict[face]).intersection(set(selected_edges[1])))==2:\n",
    "            other_affected_faces=(*other_affected_faces,face)\n",
    "            \n",
    "    \n",
    "    \n",
    "    neighbors_of_new_vertex_2_in_mod_face_1=list(set(neighbors_of_new_vertex_2_in_new_face_1).intersection(set(face_1_with_new_vertex)))\n",
    "    neighbors_of_new_vertex_3_in_mod_face_1=list(set(neighbors_of_new_vertex_3_in_new_face_1).intersection(set(face_1_with_new_vertex)))\n",
    "      \n",
    "    neighbors_of_new_vertex_1_in_mod_face_2=list(set(neighbors_of_new_vertex_1_in_new_face_2).intersection(set(face_2_with_new_vertex)))\n",
    "    neighbors_of_new_vertex_4_in_mod_face_2=list(set(neighbors_of_new_vertex_4_in_new_face_2).intersection(set(face_2_with_new_vertex)))\n",
    "    \n",
    "    \n",
    "    \n",
    "    \n",
    "    neb_dict_mod_face={neighbors_of_new_vertex_1_in_mod_face_2[0]: new_vertex_1, neighbors_of_new_vertex_2_in_mod_face_1[0]: new_vertex_2, neighbors_of_new_vertex_3_in_mod_face_1[0]: new_vertex_3, neighbors_of_new_vertex_4_in_mod_face_2[0]: new_vertex_4}\n",
    "     \n",
    "    mod_faces=[]     \n",
    "    for i in range(len(other_affected_faces)):\n",
    "        index_1=face_vertex_dict[other_affected_faces[i]].index(selected_edges[i][0])\n",
    "        index_2=face_vertex_dict[other_affected_faces[i]].index(selected_edges[i][1])\n",
    "        \n",
    "        index_1_neb=neb_dict_mod_face[face_vertex_dict[other_affected_faces[i]][index_1]]\n",
    "        index_2_neb=neb_dict_mod_face[face_vertex_dict[other_affected_faces[i]][index_2]]\n",
    "            \n",
    "        if (index_1==index_2+1) or (index_2==index_1+1):\n",
    "            if index_1>index_2:\n",
    "                #order=(index_2_neb,index_1_neb)\n",
    "                face_vertex_dict[other_affected_faces[i]]=plug_at_position(face_vertex_dict[other_affected_faces[i]],index_2_neb,index_2)\n",
    "                face_vertex_dict[other_affected_faces[i]]=plug_at_position(face_vertex_dict[other_affected_faces[i]],index_1_neb,index_2+1)\n",
    "            else:\n",
    "                #order=(index_1_neb,index_2_neb)\n",
    "                face_vertex_dict[other_affected_faces[i]]=plug_at_position(face_vertex_dict[other_affected_faces[i]],index_1_neb,index_1)\n",
    "                face_vertex_dict[other_affected_faces[i]]=plug_at_position(face_vertex_dict[other_affected_faces[i]],index_2_neb,index_1+1)\n",
    "        else: \n",
    "            k=len(face_vertex_dict[other_affected_faces[i]])-1\n",
    "            if index_1==k:\n",
    "                face_vertex_dict[other_affected_faces[i]]=[*face_vertex_dict[other_affected_faces[i]],index_1_neb,index_2_neb]\n",
    "            else:\n",
    "                face_vertex_dict[other_affected_faces[i]]=[*face_vertex_dict[other_affected_faces[i]],index_2_neb,index_1_neb]\n",
    "    \n",
    "    \n",
    "  \n",
    "    return face_vertex_dict\n",
    "    "
   ]
  },
  {
   "cell_type": "code",
   "execution_count": 17,
   "metadata": {},
   "outputs": [],
   "source": [
    "F={'1':[1,2,4,3],'2':[5,6,2,1],'3':[2,6,8,4],'4':[3,4,8,7],'5':[5,1,3,7],'6':[5,6,8,7]}"
   ]
  },
  {
   "cell_type": "code",
   "execution_count": 18,
   "metadata": {},
   "outputs": [],
   "source": [
    "B1_graph=alpha(F)"
   ]
  },
  {
   "cell_type": "code",
   "execution_count": 19,
   "metadata": {},
   "outputs": [],
   "source": [
    "B1=Barnette_Graph(B1_graph)"
   ]
  },
  {
   "cell_type": "code",
   "execution_count": 20,
   "metadata": {},
   "outputs": [
    {
     "data": {
      "text/plain": [
       "('1.2.6', -20)"
      ]
     },
     "execution_count": 20,
     "metadata": {},
     "output_type": "execute_result"
    }
   ],
   "source": [
    "uniformcostsearch(B1)"
   ]
  },
  {
   "cell_type": "code",
   "execution_count": 21,
   "metadata": {},
   "outputs": [],
   "source": [
    "def generate_barnette_graph(alpha_iterations,random_state=42):\n",
    "    B0_face_vertex_dict={'1':[1,2,4,3],'2':[5,6,2,1],'3':[2,6,8,4],'4':[3,4,8,7],'5':[5,1,3,7],'6':[5,6,8,7]}\n",
    "    Barnette_graph_face_vertex_dict=B0_face_vertex_dict\n",
    "    for i in range(alpha_iterations):\n",
    "        Barnette_graph_face_vertex_dict=alpha(Barnette_graph_face_vertex_dict, random_state)\n",
    "    print('Generated Graph with '+str(len(list(Barnette_graph_face_vertex_dict.keys())))+' faces')\n",
    "    print('Generated Graph with '+str(findmax(list(Barnette_graph_face_vertex_dict.values())))+' vertices')\n",
    "    return Barnette_graph_face_vertex_dict"
   ]
  },
  {
   "cell_type": "code",
   "execution_count": 22,
   "metadata": {},
   "outputs": [
    {
     "name": "stdout",
     "output_type": "stream",
     "text": [
      "Generated Graph with 1006 faces\n",
      "Generated Graph with 2008 vertices\n"
     ]
    }
   ],
   "source": [
    "Barnette_graph_face_vertex_dict=generate_barnette_graph(500,random_state=79)"
   ]
  },
  {
   "cell_type": "code",
   "execution_count": 23,
   "metadata": {},
   "outputs": [],
   "source": [
    "barnette_graph=Barnette_Graph(Barnette_graph_face_vertex_dict)"
   ]
  },
  {
   "cell_type": "code",
   "execution_count": null,
   "metadata": {},
   "outputs": [],
   "source": [
    "uniformcostsearch(barnette_graph)"
   ]
  }
 ],
 "metadata": {
  "kernelspec": {
   "display_name": "Python 3 (ipykernel)",
   "language": "python",
   "name": "python3"
  },
  "language_info": {
   "codemirror_mode": {
    "name": "ipython",
    "version": 3
   },
   "file_extension": ".py",
   "mimetype": "text/x-python",
   "name": "python",
   "nbconvert_exporter": "python",
   "pygments_lexer": "ipython3",
   "version": "3.11.4"
  }
 },
 "nbformat": 4,
 "nbformat_minor": 4
}
